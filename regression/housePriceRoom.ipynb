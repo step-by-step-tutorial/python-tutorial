{
 "cells": [
  {
   "cell_type": "markdown",
   "id": "d790c247-3b65-4d34-8a08-db0e7e59e8ad",
   "metadata": {},
   "source": [
    "# Task\n",
    "\n",
    "<p>\n",
    "For this project, we've collected information on approximately 4,000 apartments in Tehran. All the data provided are entirely real. Your task is to estimate the price in dollars or Tomans using the dataset's features described below. The data is stored in the file housePrice.csv.\n",
    "</p>\n",
    "\n",
    "* Area of the apartment in square meters (Area)\n",
    "* Number of bedrooms (Room)\n",
    "* Parking availability (Parking)\n",
    "* Warehouse/storage availability (Warehouse)\n",
    "* Elevator availability (Elevator)\n",
    "* Approximate address in Tehran (Address)\n",
    "* Price in Tomans (Price)\n",
    "* Price in USD (Price(USD))\n",
    "\n",
    "<p>\n",
    "In this dataset, some apartments have missing addresses, and some have incorrect area values (excessively large values). You must manage these cases by removing them from your dataset.\n",
    "</p>"
   ]
  },
  {
   "cell_type": "code",
   "id": "4c59018c-b0aa-462a-af5f-e4e368460008",
   "metadata": {
    "ExecuteTime": {
     "end_time": "2025-05-12T14:28:10.783859Z",
     "start_time": "2025-05-12T14:28:10.780899Z"
    }
   },
   "source": [
    "import pandas as pd\n",
    "import numpy as np\n",
    "import matplotlib.pyplot as plt\n",
    "%matplotlib inline"
   ],
   "outputs": [],
   "execution_count": 70
  },
  {
   "cell_type": "markdown",
   "id": "4c30d1ab-f50a-48a4-a4d8-d44150dba739",
   "metadata": {},
   "source": [
    "## Reas CSV File\n",
    "* Read as dataframe\n",
    "* Convert Area, Room, Prices to number"
   ]
  },
  {
   "cell_type": "code",
   "id": "06be83b6-3cc9-4819-a069-bc707122085b",
   "metadata": {
    "ExecuteTime": {
     "end_time": "2025-05-12T14:28:13.176741Z",
     "start_time": "2025-05-12T14:28:13.166742Z"
    }
   },
   "source": [
    "df = pd.read_csv(\"./resources/housePrice.csv\")\n",
    "\n",
    "df['Area'] = pd.to_numeric(df['Area'], errors='coerce')\n",
    "df['Room'] = pd.to_numeric(df['Room'], errors='coerce')\n",
    "df['Price'] = pd.to_numeric(df['Price'], errors='coerce')\n",
    "df['Price(USD)'] = pd.to_numeric(df['Price(USD)'], errors='coerce')"
   ],
   "outputs": [],
   "execution_count": 71
  },
  {
   "cell_type": "code",
   "id": "789410dd-a63f-4e8e-a1c4-7f86ab87d301",
   "metadata": {
    "ExecuteTime": {
     "end_time": "2025-05-12T14:28:16.714396Z",
     "start_time": "2025-05-12T14:28:16.709396Z"
    }
   },
   "source": [
    "df.count()"
   ],
   "outputs": [
    {
     "data": {
      "text/plain": [
       "Area          3473\n",
       "Room          3479\n",
       "Parking       3479\n",
       "Warehouse     3479\n",
       "Elevator      3479\n",
       "Address       3456\n",
       "Price         3479\n",
       "Price(USD)    3479\n",
       "dtype: int64"
      ]
     },
     "execution_count": 72,
     "metadata": {},
     "output_type": "execute_result"
    }
   ],
   "execution_count": 72
  },
  {
   "cell_type": "markdown",
   "id": "54b1731a-eb27-4f46-9def-7e46fb9734e2",
   "metadata": {},
   "source": [
    "## Clean Data\n",
    "* Filter empty address\n",
    "* Filter invalid area value"
   ]
  },
  {
   "cell_type": "code",
   "id": "15bbdefa-f889-4608-9a96-d2f05d510baa",
   "metadata": {
    "ExecuteTime": {
     "end_time": "2025-05-12T14:28:21.101344Z",
     "start_time": "2025-05-12T14:28:21.092435Z"
    }
   },
   "source": [
    "df = df[df['Address'].notna() & (df['Address'].str.strip() != '')]\n",
    "df = df[(df['Area'] >= 1) & (df['Area'] <= 10000)]\n",
    "df.reset_index(drop=True, inplace=True)\n",
    "df.head()"
   ],
   "outputs": [
    {
     "data": {
      "text/plain": [
       "    Area  Room  Parking  Warehouse  Elevator         Address         Price  \\\n",
       "0   63.0     1     True       True      True         Shahran  1.850000e+09   \n",
       "1   60.0     1     True       True      True         Shahran  1.850000e+09   \n",
       "2   79.0     2     True       True      True          Pardis  5.500000e+08   \n",
       "3   95.0     2     True       True      True   Shahrake Qods  9.025000e+08   \n",
       "4  123.0     2     True       True      True  Shahrake Gharb  7.000000e+09   \n",
       "\n",
       "   Price(USD)  \n",
       "0    61666.67  \n",
       "1    61666.67  \n",
       "2    18333.33  \n",
       "3    30083.33  \n",
       "4   233333.33  "
      ],
      "text/html": [
       "<div>\n",
       "<style scoped>\n",
       "    .dataframe tbody tr th:only-of-type {\n",
       "        vertical-align: middle;\n",
       "    }\n",
       "\n",
       "    .dataframe tbody tr th {\n",
       "        vertical-align: top;\n",
       "    }\n",
       "\n",
       "    .dataframe thead th {\n",
       "        text-align: right;\n",
       "    }\n",
       "</style>\n",
       "<table border=\"1\" class=\"dataframe\">\n",
       "  <thead>\n",
       "    <tr style=\"text-align: right;\">\n",
       "      <th></th>\n",
       "      <th>Area</th>\n",
       "      <th>Room</th>\n",
       "      <th>Parking</th>\n",
       "      <th>Warehouse</th>\n",
       "      <th>Elevator</th>\n",
       "      <th>Address</th>\n",
       "      <th>Price</th>\n",
       "      <th>Price(USD)</th>\n",
       "    </tr>\n",
       "  </thead>\n",
       "  <tbody>\n",
       "    <tr>\n",
       "      <th>0</th>\n",
       "      <td>63.0</td>\n",
       "      <td>1</td>\n",
       "      <td>True</td>\n",
       "      <td>True</td>\n",
       "      <td>True</td>\n",
       "      <td>Shahran</td>\n",
       "      <td>1.850000e+09</td>\n",
       "      <td>61666.67</td>\n",
       "    </tr>\n",
       "    <tr>\n",
       "      <th>1</th>\n",
       "      <td>60.0</td>\n",
       "      <td>1</td>\n",
       "      <td>True</td>\n",
       "      <td>True</td>\n",
       "      <td>True</td>\n",
       "      <td>Shahran</td>\n",
       "      <td>1.850000e+09</td>\n",
       "      <td>61666.67</td>\n",
       "    </tr>\n",
       "    <tr>\n",
       "      <th>2</th>\n",
       "      <td>79.0</td>\n",
       "      <td>2</td>\n",
       "      <td>True</td>\n",
       "      <td>True</td>\n",
       "      <td>True</td>\n",
       "      <td>Pardis</td>\n",
       "      <td>5.500000e+08</td>\n",
       "      <td>18333.33</td>\n",
       "    </tr>\n",
       "    <tr>\n",
       "      <th>3</th>\n",
       "      <td>95.0</td>\n",
       "      <td>2</td>\n",
       "      <td>True</td>\n",
       "      <td>True</td>\n",
       "      <td>True</td>\n",
       "      <td>Shahrake Qods</td>\n",
       "      <td>9.025000e+08</td>\n",
       "      <td>30083.33</td>\n",
       "    </tr>\n",
       "    <tr>\n",
       "      <th>4</th>\n",
       "      <td>123.0</td>\n",
       "      <td>2</td>\n",
       "      <td>True</td>\n",
       "      <td>True</td>\n",
       "      <td>True</td>\n",
       "      <td>Shahrake Gharb</td>\n",
       "      <td>7.000000e+09</td>\n",
       "      <td>233333.33</td>\n",
       "    </tr>\n",
       "  </tbody>\n",
       "</table>\n",
       "</div>"
      ]
     },
     "execution_count": 73,
     "metadata": {},
     "output_type": "execute_result"
    }
   ],
   "execution_count": 73
  },
  {
   "cell_type": "code",
   "id": "00d84457-56a9-42bd-b44d-9e7e8e1a5a8f",
   "metadata": {
    "ExecuteTime": {
     "end_time": "2025-05-12T14:28:23.402256Z",
     "start_time": "2025-05-12T14:28:23.397816Z"
    }
   },
   "source": [
    "df.count()"
   ],
   "outputs": [
    {
     "data": {
      "text/plain": [
       "Area          3450\n",
       "Room          3450\n",
       "Parking       3450\n",
       "Warehouse     3450\n",
       "Elevator      3450\n",
       "Address       3450\n",
       "Price         3450\n",
       "Price(USD)    3450\n",
       "dtype: int64"
      ]
     },
     "execution_count": 74,
     "metadata": {},
     "output_type": "execute_result"
    }
   ],
   "execution_count": 74
  },
  {
   "cell_type": "markdown",
   "id": "55b8ba49-d7cf-4635-97cc-5e2551033e54",
   "metadata": {},
   "source": [
    "## Mask Data\n",
    "* Train data\n",
    "* Test data"
   ]
  },
  {
   "cell_type": "code",
   "id": "60bf660f-fe63-4ddb-ae6a-468be4cd5473",
   "metadata": {
    "ExecuteTime": {
     "end_time": "2025-05-12T14:28:27.111486Z",
     "start_time": "2025-05-12T14:28:27.107359Z"
    }
   },
   "source": [
    "mask = np.random.rand(len(df)) < 0.8\n",
    "train = df[mask]\n",
    "test = df[~mask]"
   ],
   "outputs": [],
   "execution_count": 75
  },
  {
   "metadata": {},
   "cell_type": "markdown",
   "source": "## Separated Room Scatter",
   "id": "9d07779c-f503-4837-8668-bb581a08a023"
  },
  {
   "metadata": {
    "ExecuteTime": {
     "end_time": "2025-05-12T14:28:29.584293Z",
     "start_time": "2025-05-12T14:28:29.463694Z"
    }
   },
   "cell_type": "code",
   "source": [
    "fig, axs = plt.subplots(1, 2, sharex=True, sharey=True, layout=\"constrained\")\n",
    "\n",
    "scatter1 = axs[0].scatter(train.Room, train.Price, color='blue')\n",
    "axs[0].set_title('Train Data')\n",
    "axs[0].set_xlabel('Room')\n",
    "axs[0].set_ylabel('Price (Toman)')\n",
    "\n",
    "scatter2 = axs[1].scatter(test.Room, test.Price, color='red')\n",
    "axs[1].set_title('Test Data')\n",
    "axs[1].set_xlabel('Room')\n",
    "axs[1].set_ylabel('Price (Toman)')\n",
    "\n",
    "plt.show()"
   ],
   "id": "b441ac4c-74a5-4472-8b37-207994855e82",
   "outputs": [
    {
     "data": {
      "text/plain": [
       "<Figure size 640x480 with 2 Axes>"
      ],
      "image/png": "[encoded data removed]"
     },
     "metadata": {},
     "output_type": "display_data"
    }
   ],
   "execution_count": 76
  },
  {
   "metadata": {},
   "cell_type": "markdown",
   "source": "## Room Scatter",
   "id": "5f4e9a17-6f5e-4f66-9ca2-fdfda6bfc326"
  },
  {
   "metadata": {
    "ExecuteTime": {
     "end_time": "2025-05-12T14:28:33.002232Z",
     "start_time": "2025-05-12T14:28:32.945413Z"
    }
   },
   "cell_type": "code",
   "source": [
    "fig = plt.figure()\n",
    "axs = fig.add_subplot(1,1,1)\n",
    "axs.scatter(train.Room, train.Price, color='blue')\n",
    "axs.scatter(test.Room, test.Price, color='red')\n",
    "plt.xlabel(\"Room\")\n",
    "plt.ylabel(\"Price (Toman)\")\n",
    "plt.show()"
   ],
   "id": "d3712f34-69ce-4965-ad05-e316eba2d1ca",
   "outputs": [
    {
     "data": {
      "text/plain": [
       "<Figure size 640x480 with 1 Axes>"
      ],
      "image/png": "[encoded data removed]"
     },
     "metadata": {},
     "output_type": "display_data"
    }
   ],
   "execution_count": 77
  },
  {
   "metadata": {},
   "cell_type": "markdown",
   "source": "## Linear Regression of Room",
   "id": "4c4c2a0d694a1fa4"
  },
  {
   "metadata": {
    "ExecuteTime": {
     "end_time": "2025-05-12T14:28:37.219375Z",
     "start_time": "2025-05-12T14:28:37.214334Z"
    }
   },
   "cell_type": "code",
   "source": [
    "from sklearn import linear_model\n",
    "\n",
    "regr = linear_model.LinearRegression()\n",
    "train_x = np.asanyarray(train[[\"Room\"]])\n",
    "train_y = np.asanyarray(train[[\"Price\"]])\n",
    "regr.fit(train_x, train_y)\n",
    "print(\"Coefficient: \", regr.coef_)\n",
    "print(\"Intercept: \", regr.intercept_)"
   ],
   "id": "684489252470600c",
   "outputs": [
    {
     "name": "stdout",
     "output_type": "stream",
     "text": [
      "Coefficient:  [[6.19614591e+09]]\n",
      "Intercept:  [-7.42524247e+09]\n"
     ]
    }
   ],
   "execution_count": 78
  },
  {
   "metadata": {
    "ExecuteTime": {
     "end_time": "2025-05-12T14:24:49.096776Z",
     "start_time": "2025-05-12T14:24:49.034778Z"
    }
   },
   "cell_type": "code",
   "source": [
    "plt.scatter(train.Room, train.Price, color=\"blue\")\n",
    "plt.plot(train_x, regr.coef_[0][0] * train_x + regr.intercept_[0], \"-r\")\n",
    "plt.xlabel(\"Room\")\n",
    "plt.ylabel(\"Price (Toman)\")\n",
    "plt.show()"
   ],
   "id": "70ca86bc9d78d380",
   "outputs": [
    {
     "data": {
      "text/plain": [
       "<Figure size 640x480 with 1 Axes>"
      ],
      "image/png": "[encoded data removed]"
     },
     "metadata": {},
     "output_type": "display_data"
    }
   ],
   "execution_count": 67
  },
  {
   "metadata": {},
   "cell_type": "markdown",
   "source": "## Predict on Room",
   "id": "352b0bde315303c6"
  },
  {
   "metadata": {
    "ExecuteTime": {
     "end_time": "2025-05-12T14:28:43.345573Z",
     "start_time": "2025-05-12T14:28:43.340527Z"
    }
   },
   "cell_type": "code",
   "source": [
    "from sklearn.metrics import r2_score\n",
    "test_x = np.asanyarray(test[[\"Room\"]])\n",
    "test_y = np.asanyarray(test[[\"Price\"]])\n",
    "test_y_hat = regr.predict(test_x)\n",
    "\n",
    "print(\"Error: %.2f\" % np.mean(np.absolute(test_y_hat - test_y)))\n",
    "print(\"Mean: %.2f\" % np.mean((test_y_hat - test_y) ** 2))\n",
    "print(\"Score: %.2f\" % r2_score(test_y, test_y_hat))"
   ],
   "id": "f3db2c1834380d7e",
   "outputs": [
    {
     "name": "stdout",
     "output_type": "stream",
     "text": [
      "Error: 3909513623.78\n",
      "Mean: 37198332464817643520.00\n",
      "Score: 0.29\n"
     ]
    }
   ],
   "execution_count": 80
  }
 ],
 "metadata": {
  "kernelspec": {
   "display_name": "Python 3 (ipykernel)",
   "language": "python",
   "name": "python3"
  },
  "language_info": {
   "codemirror_mode": {
    "name": "ipython",
    "version": 3
   },
   "file_extension": ".py",
   "mimetype": "text/x-python",
   "name": "python",
   "nbconvert_exporter": "python",
   "pygments_lexer": "ipython3",
   "version": "3.12.9"
  }
 },
 "nbformat": 4,
 "nbformat_minor": 5
}
