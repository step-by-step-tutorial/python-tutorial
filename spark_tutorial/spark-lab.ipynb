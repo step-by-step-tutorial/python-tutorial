{
 "cells": [
  {
   "cell_type": "code",
   "execution_count": null,
   "id": "f6a3c35b-c5f4-43ae-a8c3-08f5026b9038",
   "metadata": {},
   "outputs": [],
   "source": [
    "from pyspark.sql import SparkSession\n",
    "\n",
    "APP_NAME = \"Tutorial: Jupyter Application\"\n",
    "MASTER_URL = \"spark://master:7077\"\n",
    "DRIVER_HOST = \"jupyter\"\n",
    "DRIVER_BIND_ADDRESS = \"0.0.0.0\"\n",
    "\n",
    "session = SparkSession.builder \\\n",
    "    .appName(APP_NAME) \\\n",
    "    .master(MASTER_URL) \\\n",
    "    .config(\"spark.driver.host\", DRIVER_HOST) \\\n",
    "    .config(\"spark.driver.bindAddress\", DRIVER_BIND_ADDRESS) \\\n",
    "    .getOrCreate()\n",
    "print(\"Spark session established.\")\n",
    "\n",
    "columns = [\"row\", \"number\"]\n",
    "data = [(\"row1\", 1), (\"row2\", 2), (\"row3\", 3)]\n",
    "data_frame = session.createDataFrame(data, schema=columns)\n",
    "data_frame.show()\n",
    "\n",
    "session.stop()\n",
    "print(\"Spark session closed.\")"
   ]
  },
  {
   "cell_type": "code",
   "execution_count": null,
   "id": "4055b490-323a-4ece-b3c6-7045ddd279ed",
   "metadata": {},
   "outputs": [],
   "source": [
    "from pyspark.sql import SparkSession\n",
    "\n",
    "APP_NAME = \"Tutorial: DataFrame Basic Operation\"\n",
    "MASTER_URL = \"spark://master:7077\"\n",
    "DRIVER_HOST = \"jupyter\"\n",
    "DRIVER_BIND_ADDRESS = \"0.0.0.0\"\n",
    "\n",
    "session = SparkSession.builder \\\n",
    "    .appName(APP_NAME) \\\n",
    "    .master(MASTER_URL) \\\n",
    "    .config(\"spark.driver.host\", DRIVER_HOST) \\\n",
    "    .config(\"spark.driver.bindAddress\", DRIVER_BIND_ADDRESS) \\\n",
    "    .getOrCreate()\n",
    "print(\"Spark session established.\")\n",
    "\n",
    "csv_path = \"/resources/persons.csv\"\n",
    "print(f\"Reading CSV file from: {csv_path}\")\n",
    "csv = session.read.options(header=True, inferSchema=True).csv(csv_path)\n",
    "csv.createOrReplaceTempView(\"persons\")\n",
    "csv.show(5)\n",
    "\n",
    "session.stop();\n",
    "print(\"Spark session closed.\")"
   ]
  },
  {
   "cell_type": "code",
   "execution_count": null,
   "id": "95bd34d8-ab3b-42f3-91a0-ab12364c77bd",
   "metadata": {},
   "outputs": [],
   "source": []
  }
 ],
 "metadata": {
  "kernelspec": {
   "display_name": "Python 3 (ipykernel)",
   "language": "python",
   "name": "python3"
  },
  "language_info": {
   "codemirror_mode": {
    "name": "ipython",
    "version": 3
   },
   "file_extension": ".py",
   "mimetype": "text/x-python",
   "name": "python",
   "nbconvert_exporter": "python",
   "pygments_lexer": "ipython3",
   "version": "3.12.8"
  }
 },
 "nbformat": 4,
 "nbformat_minor": 5
}
