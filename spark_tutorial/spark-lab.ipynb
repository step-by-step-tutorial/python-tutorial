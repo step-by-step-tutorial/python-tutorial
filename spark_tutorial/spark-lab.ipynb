{
 "cells": [
  {
   "cell_type": "code",
   "id": "f6a3c35b-c5f4-43ae-a8c3-08f5026b9038",
   "metadata": {},
   "source": [
    "from pyspark.sql import SparkSession\n",
    "\n",
    "APP_NAME = \"Tutorial: Jupyter Application\"\n",
    "MASTER_URL = \"spark://master:7077\"\n",
    "DRIVER_HOST = \"jupyter\"\n",
    "DRIVER_BIND_ADDRESS = \"0.0.0.0\"\n",
    "\n",
    "session = SparkSession.builder \\\n",
    "    .appName(APP_NAME) \\\n",
    "    .master(MASTER_URL) \\\n",
    "    .config(\"spark.driver.host\", DRIVER_HOST) \\\n",
    "    .config(\"spark.driver.bindAddress\", DRIVER_BIND_ADDRESS) \\\n",
    "    .getOrCreate()\n",
    "print(\"Spark session established.\")\n",
    "\n",
    "columns = [\"row\", \"number\"]\n",
    "data = [(\"row1\", 1), (\"row2\", 2), (\"row3\", 3)]\n",
    "data_frame = session.createDataFrame(data, schema=columns)\n",
    "data_frame.show()\n",
    "\n",
    "session.stop()\n",
    "print(\"Spark session closed.\")"
   ],
   "outputs": [],
   "execution_count": null
  },
  {
   "cell_type": "code",
   "id": "95bd34d8-ab3b-42f3-91a0-ab12364c77bd",
   "metadata": {},
   "source": [
    "import pandas as pd\n",
    "from IPython.display import display\n",
    "\n",
    "def print_table(data_frame, title=\"Styled Data Table\"):\n",
    "    df = data_frame.toPandas()\n",
    "    \n",
    "    styled_table = (\n",
    "        df.style.set_table_styles(\n",
    "            [\n",
    "                {\"selector\": \"thead th\", \"props\": [(\"background-color\", \"#4CAF50\"), (\"color\", \"black\"), (\"text-align\", \"center\"), (\"padding\", \"10px\")]},\n",
    "                {\"selector\": \"tbody td\", \"props\": [(\"border\", \"1px solid #ddd\"), (\"text-align\", \"center\"), (\"padding\", \"5px\")]},\n",
    "                {\"selector\": \"caption\", \"props\": [(\"caption-side\", \"top\"), (\"font-size\", \"24px\"), (\"font-weight\", \"bold\"), (\"text-align\", \"left\")]},\n",
    "            ]\n",
    "        )\n",
    "        .set_caption(title)\n",
    "        .apply(\n",
    "            lambda x: [\"background-color: white\" if i % 2 == 0 else \"background-color: #d4f7dc\" for i in range(len(x))],\n",
    "        )\n",
    "        .hide(axis=\"index\")\n",
    "    )\n",
    "    \n",
    "    display(styled_table)\n"
   ],
   "outputs": [],
   "execution_count": null
  },
  {
   "cell_type": "code",
   "id": "4055b490-323a-4ece-b3c6-7045ddd279ed",
   "metadata": {},
   "source": [
    "from pyspark.sql import SparkSession\n",
    "\n",
    "\n",
    "APP_NAME = \"Tutorial: DataFrame Basic Operation\"\n",
    "MASTER_URL = \"spark://master:7077\"\n",
    "DRIVER_HOST = \"jupyter\"\n",
    "DRIVER_BIND_ADDRESS = \"0.0.0.0\"\n",
    "\n",
    "session = SparkSession.builder \\\n",
    "    .appName(APP_NAME) \\\n",
    "    .master(MASTER_URL) \\\n",
    "    .config(\"spark.driver.host\", DRIVER_HOST) \\\n",
    "    .config(\"spark.driver.bindAddress\", DRIVER_BIND_ADDRESS) \\\n",
    "    .getOrCreate()\n",
    "session.sparkContext.setLogLevel(\"WARN\")\n",
    "print(\"Spark session established.\")\n",
    "\n",
    "csv_path = \"/resources/persons.csv\"\n",
    "print(f\"Reading CSV file from: {csv_path}\")\n",
    "data_frame = session.read.options(header=True, inferSchema=True).csv(csv_path)\n",
    "data_frame.createOrReplaceTempView(\"persons\")\n",
    "\n",
    "print_table(data_frame.limit(10), \"Persons\")\n",
    "\n",
    "\n",
    "session.stop();\n",
    "print(\"Spark session closed.\")"
   ],
   "outputs": [],
   "execution_count": null
  },
  {
   "cell_type": "code",
   "id": "cd397db7-c9b6-4011-acd0-e019def54a09",
   "metadata": {},
   "source": [],
   "outputs": [],
   "execution_count": null
  }
 ],
 "metadata": {
  "kernelspec": {
   "display_name": "Python 3 (ipykernel)",
   "language": "python",
   "name": "python3"
  },
  "language_info": {
   "codemirror_mode": {
    "name": "ipython",
    "version": 3
   },
   "file_extension": ".py",
   "mimetype": "text/x-python",
   "name": "python",
   "nbconvert_exporter": "python",
   "pygments_lexer": "ipython3",
   "version": "3.12.8"
  }
 },
 "nbformat": 4,
 "nbformat_minor": 5
}
